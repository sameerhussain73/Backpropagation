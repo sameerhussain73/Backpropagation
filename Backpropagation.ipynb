{
 "cells": [
  {
   "cell_type": "code",
   "execution_count": 55,
   "id": "cb3fc6be",
   "metadata": {},
   "outputs": [],
   "source": [
    "import matplotlib\n",
    "import numpy as np\n",
    "import matplotlib.pyplot as plt\n",
    "from scipy.special import expit as sigmoid\n",
    "import math\n",
    "from sklearn.metrics import accuracy_score, f1_score\n",
    "import autograd.numpy as np\n",
    "from autograd import grad\n",
    "import torch\n",
    "%matplotlib inline"
   ]
  },
  {
   "cell_type": "code",
   "execution_count": 56,
   "id": "2d5a78c0",
   "metadata": {},
   "outputs": [
    {
     "data": {
      "text/plain": [
       "<matplotlib.collections.PathCollection at 0x24202269520>"
      ]
     },
     "execution_count": 56,
     "metadata": {},
     "output_type": "execute_result"
    },
    {
     "data": {
      "image/png": "[encoded data removed]",
      "text/plain": [
       "<Figure size 432x288 with 1 Axes>"
      ]
     },
     "metadata": {
      "needs_background": "light"
     },
     "output_type": "display_data"
    }
   ],
   "source": [
    "np.random.seed(0)\n",
    "def make_dataset(num_points):\n",
    "    radius = 5\n",
    "    data = []\n",
    "    labels = []\n",
    "    # Generate positive examples (labeled l).\n",
    "    for i in range(num_points//2):\n",
    "        r = np.random.uniform(0, radius*0.58)\n",
    "        angle = np.random.uniform(0, 2*math.pi)\n",
    "        x = r * math.sin(angle)\n",
    "        y = r * math.cos(angle)\n",
    "        data.append([x, y])\n",
    "        labels.append(1)\n",
    "    #GEenrate negative examples (labeled 0).\n",
    "    for i in range(num_points//2):\n",
    "        r = np.random.uniform(radius*0.62, radius)\n",
    "        angle = np.random.uniform(0, 2*math.pi)\n",
    "        x = r * math.sin(angle)\n",
    "        y = r * math.cos(angle)\n",
    "        data.append([x, y])\n",
    "        labels.append(0)\n",
    "        \n",
    "    data = np.asarray(data)\n",
    "    labels = np.asarray(labels)\n",
    "    return data, labels\n",
    "\n",
    "num_data = 500\n",
    "data, labels = make_dataset(num_data)\n",
    "\n",
    "# Note: red indicates a label of 1, blue indicates a lebel of 0\n",
    "plt.scatter(data[:num_data//2, 0], data[:num_data//2, 1], color='red')\n",
    "plt.scatter(data[num_data//2:, 0], data[num_data//2:, 1], color='blue')\n"
   ]
  },
  {
   "cell_type": "markdown",
   "id": "e4fee5ef",
   "metadata": {},
   "source": [
    "# Parameters"
   ]
  },
  {
   "cell_type": "code",
   "execution_count": 57,
   "id": "ea29128d",
   "metadata": {},
   "outputs": [],
   "source": [
    "# First, initialize our neural network parameters. Params will be passed as an argument of backprop code\n",
    "params = {}\n",
    "input_size = 2\n",
    "hidden_size = 10\n",
    "output_size = 1\n",
    "np.random.seed(100)\n",
    "W1 = np.random.randn(hidden_size, input_size) * 0.01\n",
    "b1 = np.zeros((hidden_size, 1))\n",
    "W2 = np.random.randn(output_size, hidden_size) * 0.01\n",
    "b2 = np.zeros((output_size, 1))\n",
    "params = {'W1': W1, 'b1': b1, 'W2': W2, 'b2': b2}"
   ]
  },
  {
   "cell_type": "markdown",
   "id": "35d46be8",
   "metadata": {},
   "source": [
    "# Manual Backpropagation"
   ]
  },
  {
   "cell_type": "code",
   "execution_count": 58,
   "id": "ab57b6a1",
   "metadata": {},
   "outputs": [],
   "source": [
    "#implement backpropagation by vector-Jacobinan product of each step.  \n",
    "def backprop_manual(X, y, params):\n",
    "    N = X.shape[0]\n",
    "    z1 = np.dot(W1, X.T) + b1\n",
    "    a1 = np.tanh(z1)\n",
    "    z2 = np.dot(W2, a1) + b2\n",
    "    y_hat = 1 / (1 + np.exp(-z2))\n",
    "#Calculating loss \n",
    "    loss = (1. /N) * np.sum(-y * np.log(y_hat) - (1 - y) * np.log(1 - y_hat))\n",
    "#Calculating derivates of the two layers and their functions\n",
    "    dL_dy_hat = y_hat - y.T\n",
    "    dz2 = dL_dy_hat * y_hat * (1 - y_hat)    \n",
    "    dW2 = (1. / N) * np.dot(dz2, a1.T)\n",
    "    db2 = (1. / N) * np.sum(dz2, axis=1, keepdims=True)\n",
    "    da1 = np.dot(W2.T, dz2)\n",
    "    dz1 = da1 * (1 - np.tanh(z1)**2)\n",
    "    dW1 = (1. / N) * np.dot(dz1, X)\n",
    "    db1 = (1. / N) * np.sum(dz1, axis=1, keepdims=True)\n",
    "#Dictionary with four keys  'W1', 'W2', 'b1', and 'b2'\n",
    "    grads = {\n",
    "        'W1' :dW1, 'W2':dW2, 'b1':db1, 'b2':db2\n",
    "    }\n",
    "    return grads, loss"
   ]
  },
  {
   "cell_type": "markdown",
   "id": "f2661b33",
   "metadata": {},
   "source": [
    "Note: Using 3000 Steps yeilds us a loss of 0.03 but here we have used steps =1000"
   ]
  },
  {
   "cell_type": "code",
   "execution_count": 59,
   "id": "1a3b87cf",
   "metadata": {},
   "outputs": [
    {
     "name": "stdout",
     "output_type": "stream",
     "text": [
      "Step   0 | Loss 0.69\n",
      "Step  50 | Loss 0.69\n",
      "Step 100 | Loss 0.69\n",
      "Step 150 | Loss 0.69\n",
      "Step 200 | Loss 0.69\n",
      "Step 250 | Loss 0.69\n",
      "Step 300 | Loss 0.69\n",
      "Step 350 | Loss 0.69\n",
      "Step 400 | Loss 0.69\n",
      "Step 450 | Loss 0.68\n",
      "Step 500 | Loss 0.66\n",
      "Step 550 | Loss 0.62\n",
      "Step 600 | Loss 0.56\n",
      "Step 650 | Loss 0.52\n",
      "Step 700 | Loss 0.50\n",
      "Step 750 | Loss 0.48\n",
      "Step 800 | Loss 0.48\n",
      "Step 850 | Loss 0.47\n",
      "Step 900 | Loss 0.46\n",
      "Step 950 | Loss 0.40\n"
     ]
    }
   ],
   "source": [
    "num_steps = 1000\n",
    "alpha = 1\n",
    "losses = []\n",
    "for step in range(num_steps):        \n",
    "    grads, loss = backprop_manual(data, labels, params)\n",
    "    for k in params:\n",
    "        params[k] -= alpha * grads[k]\n",
    "    losses.append(loss)\n",
    "    if step % 50 == 0:\n",
    "        print(\"Step {:3d} | Loss {:3.2f}\".format(step, loss))"
   ]
  },
  {
   "cell_type": "code",
   "execution_count": 60,
   "id": "206f9e9e",
   "metadata": {},
   "outputs": [
    {
     "name": "stdout",
     "output_type": "stream",
     "text": [
      "Accuracy: 90.40%\n",
      "F1 Score: 90.51%\n"
     ]
    }
   ],
   "source": [
    "def predict(X, params):\n",
    "    Z1 = np.dot(params['W1'], X.T) + params['b1']\n",
    "    A1 = np.tanh(Z1)\n",
    "    Z2 = np.dot(params['W2'], A1) + params['b2']\n",
    "    y_pred = sigmoid(Z2)\n",
    "    return y_pred.reshape(-1)\n",
    "\n",
    "# Making predictions on the dataset\n",
    "y_pred = predict(data, params)\n",
    "\n",
    "# Convert into binary values\n",
    "y_pred_binary = (y_pred > 0.5).astype(int)\n",
    "\n",
    "# Calculating accuracy and F1 score\n",
    "accuracy = accuracy_score(labels, y_pred_binary)\n",
    "f1 = f1_score(labels, y_pred_binary)\n",
    "\n",
    "print(\"Accuracy: {:.2f}%\".format(accuracy * 100))\n",
    "print(\"F1 Score: {:.2f}%\".format(f1 * 100))"
   ]
  },
  {
   "cell_type": "code",
   "execution_count": 41,
   "id": "8d754fb0",
   "metadata": {},
   "outputs": [
    {
     "data": {
      "image/png": "[encoded data removed]",
      "text/plain": [
       "<Figure size 432x288 with 1 Axes>"
      ]
     },
     "metadata": {
      "needs_background": "light"
     },
     "output_type": "display_data"
    }
   ],
   "source": [
    "plt.plot(range(num_steps), losses)\n",
    "plt.xlabel('Steps')\n",
    "plt.ylabel('Loss')\n",
    "#plotting loss vs training steps for implementation using vector-Jacobinan product\n",
    "plt.title('Loss vs Steps')\n",
    "plt.show()"
   ]
  },
  {
   "cell_type": "markdown",
   "id": "a011c3ce",
   "metadata": {},
   "source": [
    "Running Parameters again"
   ]
  },
  {
   "cell_type": "code",
   "execution_count": 42,
   "id": "e0f19b0b",
   "metadata": {},
   "outputs": [],
   "source": [
    "params = {}\n",
    "input_size = 2\n",
    "hidden_size = 10\n",
    "output_size = 1\n",
    "np.random.seed(0)\n",
    "W1 = np.random.randn(hidden_size, input_size) * 0.01\n",
    "b1 = np.zeros((hidden_size, 1))\n",
    "W2 = np.random.randn(output_size, hidden_size) * 0.01\n",
    "b2 = np.zeros((output_size, 1))\n",
    "params = {'W1': W1, 'b1': b1, 'W2': W2, 'b2': b2}"
   ]
  },
  {
   "cell_type": "markdown",
   "id": "087803a6",
   "metadata": {},
   "source": [
    "# Backpropagation using Autograd"
   ]
  },
  {
   "cell_type": "code",
   "execution_count": 43,
   "id": "907da243",
   "metadata": {},
   "outputs": [],
   "source": [
    "def sigmoid(x):\n",
    "    return 1. / (1 + np.exp(-x))\n",
    "def forward(X, params):\n",
    "    W1 = params['W1']\n",
    "    b1 = params['b1']\n",
    "    W2 = params['W2']\n",
    "    b2 = params['b2']\n",
    "    z1 = np.dot(W1, X.T) + b1\n",
    "    a1 = np.tanh(z1)\n",
    "    z2 = np.dot(W2, a1) + b2\n",
    "    y_hat = sigmoid(z2)\n",
    "    return y_hat\n",
    "def loss_function(params, X, y):\n",
    "    y_hat = forward(X, params)\n",
    "    N = X.shape[0]\n",
    "    loss = (1./N) * np.sum(-y * np.log(y_hat) - (1 - y) * np.log(1 - y_hat))\n",
    "    return loss\n",
    "def backprop_autograd(X, y, params):\n",
    "    N = X.shape[0]\n",
    "    loss = loss_function(params, X, y)\n",
    "    gradients = grad(loss_function)(params, X, y)\n",
    "    grads = {'W1': gradients['W1'], 'b1': gradients['b1'], 'W2': gradients['W2'], 'b2': gradients['b2']}\n",
    "    return grads, loss"
   ]
  },
  {
   "cell_type": "code",
   "execution_count": 44,
   "id": "ad1ebef0",
   "metadata": {},
   "outputs": [
    {
     "name": "stdout",
     "output_type": "stream",
     "text": [
      "Step   0 | Loss 0.69\n",
      "Step  50 | Loss 0.69\n",
      "Step 100 | Loss 0.69\n",
      "Step 150 | Loss 0.53\n",
      "Step 200 | Loss 0.46\n",
      "Step 250 | Loss 0.22\n",
      "Step 300 | Loss 0.15\n",
      "Step 350 | Loss 0.12\n",
      "Step 400 | Loss 0.10\n",
      "Step 450 | Loss 0.09\n",
      "Step 500 | Loss 0.08\n",
      "Step 550 | Loss 0.07\n",
      "Step 600 | Loss 0.06\n",
      "Step 650 | Loss 0.06\n",
      "Step 700 | Loss 0.05\n",
      "Step 750 | Loss 0.05\n",
      "Step 800 | Loss 0.05\n",
      "Step 850 | Loss 0.05\n",
      "Step 900 | Loss 0.04\n",
      "Step 950 | Loss 0.04\n"
     ]
    }
   ],
   "source": [
    "num_steps = 1000\n",
    "alpha = 1\n",
    "losses = []\n",
    "for step in range(num_steps):        \n",
    "    grads, loss = backprop_autograd(data, labels, params)\n",
    "    for k in params:\n",
    "        params[k] -= alpha * grads[k]\n",
    "    losses.append(loss)\n",
    "    if step % 50 == 0:\n",
    "        print(\"Step {:3d} | Loss {:3.2f}\".format(step, loss))"
   ]
  },
  {
   "cell_type": "code",
   "execution_count": 46,
   "id": "ec70e67d",
   "metadata": {},
   "outputs": [
    {
     "data": {
      "image/png": "[encoded data removed]",
      "text/plain": [
       "<Figure size 432x288 with 1 Axes>"
      ]
     },
     "metadata": {
      "needs_background": "light"
     },
     "output_type": "display_data"
    }
   ],
   "source": [
    "plt.plot(range(num_steps), losses)\n",
    "plt.xlabel('Steps')\n",
    "plt.ylabel('Loss')\n",
    "#Plotting loss vs Training for implementation using autograd \n",
    "plt.title('Loss vs Steps')\n",
    "plt.show()"
   ]
  },
  {
   "cell_type": "code",
   "execution_count": 53,
   "id": "bc408849",
   "metadata": {},
   "outputs": [
    {
     "name": "stdout",
     "output_type": "stream",
     "text": [
      "Accuracy: 99.60%\n",
      "F1 Score: 90.51%\n"
     ]
    }
   ],
   "source": [
    "y_pred = (predict(data, params) > 0.5).astype(int)\n",
    "accuracy = np.mean(y_pred == labels)\n",
    "print(\"Accuracy: {:.2f}%\".format(accuracy * 100))\n",
    "print(\"F1 Score: {:.2f}%\".format(f1 * 100))"
   ]
  },
  {
   "cell_type": "markdown",
   "id": "dc3ca66d",
   "metadata": {},
   "source": [
    "Running Parameters again"
   ]
  },
  {
   "cell_type": "code",
   "execution_count": 47,
   "id": "6f1cdca3",
   "metadata": {},
   "outputs": [],
   "source": [
    "params = {}\n",
    "input_size = 2\n",
    "hidden_size = 10\n",
    "output_size = 1\n",
    "np.random.seed(0)\n",
    "W1 = np.random.randn(hidden_size, input_size) * 0.01\n",
    "b1 = np.zeros((hidden_size, 1))\n",
    "W2 = np.random.randn(output_size, hidden_size) * 0.01\n",
    "b2 = np.zeros((output_size, 1))\n",
    "params = {'W1': W1, 'b1': b1, 'W2': W2, 'b2': b2}"
   ]
  },
  {
   "cell_type": "markdown",
   "id": "01552e31",
   "metadata": {},
   "source": [
    "# Backpropagation using Pytorch"
   ]
  },
  {
   "cell_type": "code",
   "execution_count": 48,
   "id": "b2935d07",
   "metadata": {},
   "outputs": [],
   "source": [
    "def backprop_pytorch(X, y, params):\n",
    "    X = torch.from_numpy(X)\n",
    "    y = torch.from_numpy(y)\n",
    "    #Paramaters \n",
    "    W1 = torch.tensor(params['W1'], requires_grad=True)\n",
    "    b1 = torch.tensor(params['b1'], requires_grad=True)\n",
    "    W2 = torch.tensor(params['W2'], requires_grad=True)\n",
    "    b2 = torch.tensor(params['b2'], requires_grad=True)\n",
    "    z1 = torch.matmul(W1, X.T) + b1\n",
    "    a1 = torch.tanh(z1)\n",
    "    z2 = torch.matmul(W2, a1) + b2\n",
    "    y_hat = torch.sigmoid(z2)\n",
    "    loss_fn = torch.nn.BCELoss()\n",
    "    loss = loss_fn(y_hat[0].float(), y.float())\n",
    "    loss.backward()\n",
    "    #Gradiants in dictionary \n",
    "    grads = {'W1': W1.grad.numpy(), 'b1': b1.grad.numpy(),\n",
    "             'W2': W2.grad.numpy(), 'b2': b2.grad.numpy()}\n",
    "    return grads, loss.item()"
   ]
  },
  {
   "cell_type": "code",
   "execution_count": 49,
   "id": "c80fefa5",
   "metadata": {},
   "outputs": [
    {
     "name": "stdout",
     "output_type": "stream",
     "text": [
      "Step   0 | Loss 0.69\n",
      "Step  50 | Loss 0.69\n",
      "Step 100 | Loss 0.69\n",
      "Step 150 | Loss 0.53\n",
      "Step 200 | Loss 0.46\n",
      "Step 250 | Loss 0.22\n",
      "Step 300 | Loss 0.15\n",
      "Step 350 | Loss 0.12\n",
      "Step 400 | Loss 0.10\n",
      "Step 450 | Loss 0.09\n",
      "Step 500 | Loss 0.08\n",
      "Step 550 | Loss 0.07\n",
      "Step 600 | Loss 0.06\n",
      "Step 650 | Loss 0.06\n",
      "Step 700 | Loss 0.05\n",
      "Step 750 | Loss 0.05\n",
      "Step 800 | Loss 0.05\n",
      "Step 850 | Loss 0.05\n",
      "Step 900 | Loss 0.04\n",
      "Step 950 | Loss 0.04\n"
     ]
    }
   ],
   "source": [
    "num_steps = 1000\n",
    "alpha = 1\n",
    "losses = []\n",
    "for step in range(num_steps):        \n",
    "    grads, loss = backprop_pytorch(data, labels, params)\n",
    "    for k in params:\n",
    "        params[k] -= alpha * grads[k]\n",
    "    losses.append(loss)\n",
    "    if step % 50 == 0:\n",
    "        print(\"Step {:3d} | Loss {:3.2f}\".format(step, loss))"
   ]
  },
  {
   "cell_type": "code",
   "execution_count": 52,
   "id": "769090e4",
   "metadata": {},
   "outputs": [
    {
     "data": {
      "image/png": "[encoded data removed]",
      "text/plain": [
       "<Figure size 432x288 with 1 Axes>"
      ]
     },
     "metadata": {
      "needs_background": "light"
     },
     "output_type": "display_data"
    }
   ],
   "source": [
    "plt.plot(range(num_steps), losses)\n",
    "#PLotting Loss vs Steps for impementation using pytorch\n",
    "plt.xlabel('Steps')\n",
    "plt.ylabel('Loss')\n",
    "plt.title('Loss vs Steps')\n",
    "plt.show()"
   ]
  },
  {
   "cell_type": "code",
   "execution_count": 54,
   "id": "0b566fe2",
   "metadata": {},
   "outputs": [
    {
     "name": "stdout",
     "output_type": "stream",
     "text": [
      "Accuracy: 99.60%\n",
      "F1 Score: 90.51%\n"
     ]
    }
   ],
   "source": [
    "y_pred = (predict(data, params) > 0.5).astype(int)\n",
    "accuracy = np.mean(y_pred == labels)\n",
    "#Calculating Accuracy and F1 score\n",
    "print(\"Accuracy: {:.2f}%\".format(accuracy * 100))\n",
    "print(\"F1 Score: {:.2f}%\".format(f1 * 100))"
   ]
  }
 ],
 "metadata": {
  "kernelspec": {
   "display_name": "Python 3 (ipykernel)",
   "language": "python",
   "name": "python3"
  },
  "language_info": {
   "codemirror_mode": {
    "name": "ipython",
    "version": 3
   },
   "file_extension": ".py",
   "mimetype": "text/x-python",
   "name": "python",
   "nbconvert_exporter": "python",
   "pygments_lexer": "ipython3",
   "version": "3.9.12"
  }
 },
 "nbformat": 4,
 "nbformat_minor": 5
}
